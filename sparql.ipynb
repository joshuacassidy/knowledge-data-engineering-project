{
 "metadata": {
  "language_info": {
   "codemirror_mode": {
    "name": "ipython",
    "version": 3
   },
   "file_extension": ".py",
   "mimetype": "text/x-python",
   "name": "python",
   "nbconvert_exporter": "python",
   "pygments_lexer": "ipython3",
   "version": "3.9.0-final"
  },
  "orig_nbformat": 2,
  "kernelspec": {
   "name": "python3",
   "display_name": "Python 3"
  }
 },
 "nbformat": 4,
 "nbformat_minor": 2,
 "cells": [
  {
   "cell_type": "code",
   "execution_count": 51,
   "metadata": {},
   "outputs": [
    {
     "output_type": "stream",
     "name": "stdout",
     "text": [
      "Name: rdflibNote: you may need to restart the kernel to use updated packages.\n",
      "\n",
      "Version: 5.0.0\n",
      "Summary: RDFLib is a Python library for working with RDF, a simple yet powerful language for representing information.\n",
      "Home-page: https://github.com/RDFLib/rdflib\n",
      "Author: Daniel 'eikeon' Krech\n",
      "Author-email: eikeon@eikeon.com\n",
      "License: BSD-3-Clause\n",
      "Location: c:\\users\\siddhesh\\appdata\\local\\programs\\python\\python39\\lib\\site-packages\n",
      "Requires: pyparsing, six, isodate\n",
      "Required-by: \n"
     ]
    }
   ],
   "source": [
    "pip show rdflib"
   ]
  },
  {
   "cell_type": "code",
   "execution_count": 22,
   "metadata": {},
   "outputs": [
    {
     "output_type": "stream",
     "name": "stdout",
     "text": [
      "http://foo.example/Availability/91 http://www.semanticweb.org/ontologies/2020/10/availabilityMax 14\nhttp://foo.example/ActivitiesTypes/Church%20Abbey http://www.semanticweb.org/ontologies/2020/10/partOfActivity http://foo.example/Activities/Abbeyshrule%20Monastery\nhttp://foo.example/Activities/Abbey%20Ireland%20%26%20UK http://www.semanticweb.org/ontologies/2020/10/partOfActivity http://foo.example/ActivitiesTypes/Tour\nhttp://foo.example/ActivitiesTypes/Activity%20Operator http://www.semanticweb.org/ontologies/2020/10/partOfActivity http://foo.example/Activities/A%20Touch%20of%20Ireland%20Ltd.\nhttp://foo.example/Availability/50 http://www.semanticweb.org/ontologies/2020/10/availabilityPrice 200.00\nhttp://foo.example/Activities/5%20Day%20Fishing-Fly%20Fishing%20or%20Sea%20Angling http://www.semanticweb.org/ontologies/2020/10/activityName 5 Day Fishing-Fly Fishing or Sea Angling\nhttp://foo.example/Availability/52 http://www.semanticweb.org/ontologies/2020/10/availabilityID 52\nhttp://foo.example/Activities/2020%20Art%20Gallery http://www.semanticweb.org/ontologies/2020/10/activityLocatedIn http://foo.example/Location/Cork\nhttp://foo.example/Availability/83 http://www.semanticweb.org/ontologies/2020/10/availabilityAdjustedPrice 200.00\nhttp://foo.example/ActivitiesTypes/Tour http://www.semanticweb.org/ontologies/2020/10/partOfActivity http://foo.example/Activities/Abbey%20Ireland%20%26%20UK\nhttp://foo.example/Activities/12%20Day%20Giant%20Irish%20Adventure%20Tour%20-%20Vagabond%20Tours%20of%20Ireland http://www.semanticweb.org/ontologies/2020/10/activityName 12 Day Giant Irish Adventure Tour - Vagabond Tours of Ireland\nhttp://foo.example/Availability/38 http://www.semanticweb.org/ontologies/2020/10/availabilityMin 3\nhttp://foo.example/Availability/92 http://www.w3.org/1999/02/22-rdf-syntax-ns#type http://www.semanticweb.org/ontologies/2020/10/Availability\nhttp://foo.example/Accomedation/18349413 http://www.semanticweb.org/ontologies/2020/10/accBathroomDescription 1 bath\nhttp://foo.example/Availability/58 http://www.semanticweb.org/ontologies/2020/10/availabilityAvaliable 43920125\nhttp://foo.example/Activities/365%20Chauffeur%20Drive http://www.semanticweb.org/ontologies/2020/10/activityLongitude -6.2601700553123\nhttp://foo.example/Reviews/2 http://www.semanticweb.org/ontologies/2020/10/reviewerName 187536638\nhttp://foo.example/Activities/10%20Fleet%20Street%20Restaurant%20%26%20Bar http://www.w3.org/1999/02/22-rdf-syntax-ns#type http://www.semanticweb.org/ontologies/2020/10/Activity\nhttp://foo.example/Activities/3%20Day%20Western%20Rocker%20Tour%20-%20Shamrocker%20Adventures http://www.semanticweb.org/ontologies/2020/10/activityLatitude 53.343801\nhttp://foo.example/Availability/89 http://www.semanticweb.org/ontologies/2020/10/availabilityAdjustedPrice 200.00\nhttp://foo.example/Reviews/42 http://www.semanticweb.org/ontologies/2020/10/reviewDateCreated 2016-10-24\n"
     ]
    }
   ],
   "source": [
    "g = Graph()\n",
    "g.parse(\"output.ttl\", format=\"turtle\")\n",
    "for index, (sub, pred, obj) in enumerate(g):\n",
    "    print(sub, pred, obj)\n",
    "    if index == 20:\n",
    "        break"
   ]
  },
  {
   "cell_type": "code",
   "execution_count": 9,
   "metadata": {},
   "outputs": [
    {
     "output_type": "stream",
     "name": "stdout",
     "text": [
      "graph has 2249 facts\n"
     ]
    }
   ],
   "source": [
    "print(f'graph has {len(g)} facts')"
   ]
  },
  {
   "cell_type": "code",
   "execution_count": 10,
   "metadata": {
    "tags": [
     "outputPrepend"
    ]
   },
   "outputs": [
    {
     "output_type": "stream",
     "name": "stdout",
     "text": [
      "getarian> .\n\n<http://foo.example/Activities/56%20Central%20Restaurant> a ns1:Activity ;\n    ns1:activityID \"24\" ;\n    ns1:activityLatitude \"53.272925\" ;\n    ns1:activityLocatedIn <http://foo.example/Location/Galway> ;\n    ns1:activityLongitude \"-9.052348\" ;\n    ns1:activityName \"56 Central Restaurant\" ;\n    ns1:activityTelephone \"35391569511\" ;\n    ns1:activityWebsite \"http://www.56central.com\" ;\n    ns1:partOfActivity <http://foo.example/ActivitiesTypes/Covid%20Safety%20Charter>,\n        <http://foo.example/ActivitiesTypes/Fine%20Dining>,\n        <http://foo.example/ActivitiesTypes/Food%20and%20Drink>,\n        <http://foo.example/ActivitiesTypes/Pubs%20and%20Bar>,\n        <http://foo.example/ActivitiesTypes/Restaurant> .\n\n<http://foo.example/Activities/Abbeyfeale%20Farmers%20Market> a ns1:Activity ;\n    ns1:activityID \"44\" ;\n    ns1:activityLatitude \"52.384547\" ;\n    ns1:activityLocatedIn <http://foo.example/Location/Limerick> ;\n    ns1:activityLongitude \"-9.301963\" ;\n    ns1:activityName \"Abbeyfeale Farmers Market\" ;\n    ns1:activityTelephone \"353876866450\" ;\n    ns1:activityWebsite \"https://www.iomst.ie/market/abbeyfeale-farmers-market/\" ;\n    ns1:partOfActivity <http://foo.example/ActivitiesTypes/Food%20Shops>,\n        <http://foo.example/ActivitiesTypes/Food%20and%20Drink>,\n        <http://foo.example/ActivitiesTypes/Restaurant>,\n        <http://foo.example/ActivitiesTypes/Shopping>,\n        <http://foo.example/ActivitiesTypes/Shopping%20Centres%20and%20Department%20Store> .\n\n<http://foo.example/Activities/Aboveboard> a ns1:Activity ;\n    ns1:activityID \"50\" ;\n    ns1:activityLatitude \"53.2972947317128\" ;\n    ns1:activityLocatedIn <http://foo.example/Location/Dublin> ;\n    ns1:activityLongitude \"-6.14870248101192\" ;\n    ns1:activityName \"Aboveboard\" ;\n    ns1:activityTelephone \"35312804774\" ;\n    ns1:activityWebsite \"https://www.facebook.com/aboveboardkitesupwakebike\" ;\n    ns1:partOfActivity <http://foo.example/ActivitiesTypes/Activity%20Operator>,\n        <http://foo.example/ActivitiesTypes/Cycling>,\n        <http://foo.example/ActivitiesTypes/Kitesurfing>,\n        <http://foo.example/ActivitiesTypes/Surfing>,\n        <http://foo.example/ActivitiesTypes/Windsurfing> .\n\n<http://foo.example/ActivitiesTypes/Historic%20Houses%20and%20Castle> a ns1:ActivityType ;\n    ns1:activityTypeActivityID \"16\" ;\n    ns1:activityTypeName \"Historic Houses and Castle\" ;\n    ns1:partOfActivity <http://foo.example/Activities/12%20Henrietta%20Street>,\n        <http://foo.example/Activities/14%20Henrietta%20Street>,\n        <http://foo.example/Activities/Abbeyderg%20Abbey%20and%20Graveyard>,\n        <http://foo.example/Activities/Abbeyleix%20Heritage%20House>,\n        <http://foo.example/Activities/Abbeyshrule%20Monastery> .\n\n<http://foo.example/ActivitiesTypes/Pubs%20and%20Bar> a ns1:ActivityType ;\n    ns1:activityTypeActivityID \"5\" ;\n    ns1:activityTypeName \"Pubs and Bar\" ;\n    ns1:partOfActivity <http://foo.example/Activities/10%20Fleet%20Street%20Restaurant%20%26%20Bar>,\n        <http://foo.example/Activities/360%20Cookhouse>,\n        <http://foo.example/Activities/37%20Dawson%20Street>,\n        <http://foo.example/Activities/56%20Central%20Restaurant>,\n        <http://foo.example/Activities/Abbey%20Theatre> .\n\n<http://foo.example/ActivitiesTypes/Shopping> a ns1:ActivityType ;\n    ns1:activityTypeActivityID \"20\" ;\n    ns1:activityTypeName \"Shopping\" ;\n    ns1:partOfActivity <http://foo.example/Activities/126%20Artist-Run%20Gallery>,\n        <http://foo.example/Activities/14%20Henrietta%20Street>,\n        <http://foo.example/Activities/2020%20Art%20Gallery>,\n        <http://foo.example/Activities/53%20Degrees%20North>,\n        <http://foo.example/Activities/Abbey%20Road%20Artists’%20Studios>,\n        <http://foo.example/Activities/Abbeyfeale%20Farmers%20Market> .\n\n<http://foo.example/Activities/Abbeyleix%20Heritage%20House> a ns1:Activity ;\n    ns1:activityID \"46\" ;\n    ns1:activityLatitude \"52.9172919\" ;\n    ns1:activityLocatedIn <http://foo.example/Location/Laois> ;\n    ns1:activityLongitude \"-7.3464114\" ;\n    ns1:activityName \"Abbeyleix Heritage House\" ;\n    ns1:activityTelephone \"353578731653\" ;\n    ns1:activityWebsite \"http://www.abbeyleixheritage.com/about-us/\" ;\n    ns1:partOfActivity <http://foo.example/ActivitiesTypes/Cafe>,\n        <http://foo.example/ActivitiesTypes/Covid%20Safety%20Charter>,\n        <http://foo.example/ActivitiesTypes/Food%20and%20Drink>,\n        <http://foo.example/ActivitiesTypes/Historic%20Houses%20and%20Castle>,\n        <http://foo.example/ActivitiesTypes/Museums%20and%20Attraction>,\n        <http://foo.example/ActivitiesTypes/Tour>,\n        <http://foo.example/ActivitiesTypes/Tracing%20Your%20Ancestors> .\n\n<http://foo.example/ActivitiesTypes/Covid%20Safety%20Charter> a ns1:ActivityType ;\n    ns1:activityTypeActivityID \"8\" ;\n    ns1:activityTypeName \"Covid Safety Charter\" ;\n    ns1:partOfActivity <http://foo.example/Activities/101%20Talbot>,\n        <http://foo.example/Activities/14%20Henrietta%20Street>,\n        <http://foo.example/Activities/360%20Cookhouse>,\n        <http://foo.example/Activities/56%20Central%20Restaurant>,\n        <http://foo.example/Activities/A%20Touch%20of%20Ireland%20Ltd.>,\n        <http://foo.example/Activities/Abbey%20Theatre>,\n        <http://foo.example/Activities/Abbeyleix%20Heritage%20House> .\n\n<http://foo.example/Activities/14%20Henrietta%20Street> a ns1:Activity ;\n    ns1:activityID \"8\" ;\n    ns1:activityLatitude \"53.3525066716744\" ;\n    ns1:activityLocatedIn <http://foo.example/Location/Dublin> ;\n    ns1:activityLongitude \"-6.27021090475955\" ;\n    ns1:activityName \"14 Henrietta Street\" ;\n    ns1:activityTelephone \"35315240383\" ;\n    ns1:activityWebsite \"https://14henriettastreet.ie\" ;\n    ns1:partOfActivity <http://foo.example/ActivitiesTypes/Covid%20Safety%20Charter>,\n        <http://foo.example/ActivitiesTypes/Food%20Shops>,\n        <http://foo.example/ActivitiesTypes/Historic%20Houses%20and%20Castle>,\n        <http://foo.example/ActivitiesTypes/Museums%20and%20Attraction>,\n        <http://foo.example/ActivitiesTypes/Music>,\n        <http://foo.example/ActivitiesTypes/Shopping>,\n        <http://foo.example/ActivitiesTypes/Tour>,\n        <http://foo.example/ActivitiesTypes/Venue> .\n\n<http://foo.example/Activities/Abbey%20Theatre> a ns1:Activity ;\n    ns1:activityID \"41\" ;\n    ns1:activityLatitude \"53.34854\" ;\n    ns1:activityLocatedIn <http://foo.example/Location/Dublin> ;\n    ns1:activityLongitude \"-6.257107\" ;\n    ns1:activityName \"Abbey Theatre\" ;\n    ns1:activityTelephone \"+353(0)18787222\" ;\n    ns1:activityWebsite \"http://www.abbeytheatre.ie\" ;\n    ns1:partOfActivity <http://foo.example/ActivitiesTypes/Activity%20Operator>,\n        <http://foo.example/ActivitiesTypes/Cafe>,\n        <http://foo.example/ActivitiesTypes/Covid%20Safety%20Charter>,\n        <http://foo.example/ActivitiesTypes/Food%20and%20Drink>,\n        <http://foo.example/ActivitiesTypes/Music>,\n        <http://foo.example/ActivitiesTypes/Pubs%20and%20Bar>,\n        <http://foo.example/ActivitiesTypes/Tour>,\n        <http://foo.example/ActivitiesTypes/Venue> .\n\n<http://foo.example/Activities/Abbeyderg%20Abbey%20and%20Graveyard> a ns1:Activity ;\n    ns1:activityID \"43\" ;\n    ns1:activityLatitude \"53.6334654024929\" ;\n    ns1:activityLocatedIn <http://foo.example/Location/Longford> ;\n    ns1:activityLongitude \"-7.78910667668568\" ;\n    ns1:activityName \"Abbeyderg Abbey and Graveyard\" ;\n    ns1:activityTelephone \"353433346566\" ;\n    ns1:activityWebsite \"http://visitlongford.ie/listings/abbeyderg-abbey\" ;\n    ns1:partOfActivity <http://foo.example/ActivitiesTypes/Abbeys%20and%20Monastery>,\n        <http://foo.example/ActivitiesTypes/Church%20Abbey>,\n        <http://foo.example/ActivitiesTypes/Churches>,\n        <http://foo.example/ActivitiesTypes/Historic%20Houses%20and%20Castle>,\n        <http://foo.example/ActivitiesTypes/Learning>,\n        <http://foo.example/ActivitiesTypes/Monastery>,\n        <http://foo.example/ActivitiesTypes/Photography>,\n        <http://foo.example/ActivitiesTypes/Ruins> .\n\n<http://foo.example/Activities/Abbeyshrule%20Monastery> a ns1:Activity ;\n    ns1:activityID \"48\" ;\n    ns1:activityLatitude \"53.5796914273899\" ;\n    ns1:activityLocatedIn <http://foo.example/Location/Longford> ;\n    ns1:activityLongitude \"-7.6583470787125\" ;\n    ns1:activityName \"Abbeyshrule Monastery\" ;\n    ns1:activityTelephone \"353433342577\" ;\n    ns1:activityWebsite \"http://www.facebook.com/AbbeyshruleAbbey\" ;\n    ns1:partOfActivity <http://foo.example/ActivitiesTypes/Abbeys%20and%20Monastery>,\n        <http://foo.example/ActivitiesTypes/Church%20Abbey>,\n        <http://foo.example/ActivitiesTypes/Churches>,\n        <http://foo.example/ActivitiesTypes/Historic%20Houses%20and%20Castle>,\n        <http://foo.example/ActivitiesTypes/Learning>,\n        <http://foo.example/ActivitiesTypes/Monastery>,\n        <http://foo.example/ActivitiesTypes/Photography>,\n        <http://foo.example/ActivitiesTypes/Ruins> .\n\n<http://foo.example/ActivitiesTypes/Restaurant> a ns1:ActivityType ;\n    ns1:activityTypeActivityID \"4\" ;\n    ns1:activityTypeName \"Restaurant\" ;\n    ns1:partOfActivity <http://foo.example/Activities/10%20Fleet%20Street%20Restaurant%20%26%20Bar>,\n        <http://foo.example/Activities/101%20Talbot>,\n        <http://foo.example/Activities/2019%20Irish%20Harvest%20Festival>,\n        <http://foo.example/Activities/360%20Cookhouse>,\n        <http://foo.example/Activities/37%20Dawson%20Street>,\n        <http://foo.example/Activities/56%20Central%20Restaurant>,\n        <http://foo.example/Activities/64%20Wine>,\n        <http://foo.example/Activities/Abbeyfeale%20Farmers%20Market> .\n\n<http://foo.example/ActivitiesTypes/Food%20and%20Drink> a ns1:ActivityType ;\n    ns1:activityTypeActivityID \"3\" ;\n    ns1:activityTypeName \"Food and Drink\" ;\n    ns1:partOfActivity <http://foo.example/Activities/10%20Fleet%20Street%20Restaurant%20%26%20Bar>,\n        <http://foo.example/Activities/101%20Talbot>,\n        <http://foo.example/Activities/2019%20Irish%20Harvest%20Festival>,\n        <http://foo.example/Activities/360%20Cookhouse>,\n        <http://foo.example/Activities/37%20Dawson%20Street>,\n        <http://foo.example/Activities/56%20Central%20Restaurant>,\n        <http://foo.example/Activities/64%20Wine>,\n        <http://foo.example/Activities/Abbey%20Theatre>,\n        <http://foo.example/Activities/Abbeyfeale%20Farmers%20Market>,\n        <http://foo.example/Activities/Abbeyleix%20Heritage%20House> .\n\n<http://foo.example/Country/Republic%20of%20Ireland> a ns1:Country ;\n    ns1:contains <http://foo.example/County/Cork>,\n        <http://foo.example/County/Donegal>,\n        <http://foo.example/County/Dublin>,\n        <http://foo.example/County/Galway>,\n        <http://foo.example/County/Kilkenny>,\n        <http://foo.example/County/Laois>,\n        <http://foo.example/County/Limerick>,\n        <http://foo.example/County/Longford>,\n        <http://foo.example/County/Mayo>,\n        <http://foo.example/County/Sligo>,\n        <http://foo.example/County/Waterford>,\n        <http://foo.example/County/Westmeath>,\n        <http://foo.example/County/Wexford>,\n        <http://foo.example/County/Wicklow> ;\n    ns1:countryName \"Republic of Ireland\" .\n\n<http://foo.example/Accomedation/18349413> a ns1:Accomedation ;\n    ns1:accAccommodates \"4\" ;\n    ns1:accBathroomDescription \"1 bath\" ;\n    ns1:accBedrooms \"2\" ;\n    ns1:accBeds \"2\" ;\n    ns1:accDescription \"Lovely cottage close to the city centre. 10 mins to city centre by bus with closest bus stop 3min walk from house. LUAS (tram) is a 10min walk from the house. 40 min walk to city centre.<br />Free parking. Two bedrooms. One with double bed & second room with a daybed that can be pulled out to be a double bed. <br />Dogs live here but will not be present during stay, just to note in case anyone has strong allergies. <br />There is a lovely back garden with furniture & fire pit.<br />Real open fire in living room.<br /><br /><b>The space</b><br />The whole house will be available to you except for my own private bedroom. You will have access to the back garden as well & are welcome to use the kitchen.<br /><br /><b>Guest access</b><br />Parking to the side of the house without obstructing neighbours access. Back garden, front garden. Inside the house the only room that is not accessible is my own private bedroom.<br /><br /><b>Other things to note</b><br />The house does have dogs living\" ;\n    ns1:accHostId \"55002336\" ;\n    ns1:accID \"18349413\" ;\n    ns1:accInstantBookable \"false\" ;\n    ns1:accLastUpdated \"2020-10-17\" ;\n    ns1:accLatitude \"53.3268\" ;\n    ns1:accLongitude \"-6.31343\" ;\n    ns1:accName \"Cozy modern cottage near the city centre\" ;\n    ns1:accNeighborhoodDescription \"My house is very close to the city centre, it only takes 10mins by bus but is in a quiet residential area so you can get a good nights sleep after exploring the city . It is also about 20min walk to Kilmainham where there is a museum of modern art & the famous Kilmainham jail. The Luas which is a 10min walk from the house takes you into the city centre, Heuston Train Station, Connelly Station, The Red Cow among many other useful stops.\" ;\n    ns1:accOwnedBy <http://foo.example/Host/55002336> ;\n    ns1:accPropertyTypeId \"2\" ;\n    ns1:accReviewsPerMonth \"0.10\" ;\n    ns1:accRoomTypeId \"2\" ;\n    ns1:accURL \"https://www.airbnb.com/rooms/18349413\" ;\n    ns1:accommodationLocatedIn <http://foo.example/Location/Dublin> ;\n    ns1:activityLocation \"Dublin\" ;\n    ns1:hasAmentities <http://foo.example/Amenity/1>,\n        <http://foo.example/Amenity/10>,\n        <http://foo.example/Amenity/11>,\n        <http://foo.example/Amenity/12>,\n        <http://foo.example/Amenity/13>,\n        <http://foo.example/Amenity/14>,\n        <http://foo.example/Amenity/15>,\n        <http://foo.example/Amenity/16>,\n        <http://foo.example/Amenity/17>,\n        <http://foo.example/Amenity/18>,\n        <http://foo.example/Amenity/19>,\n        <http://foo.example/Amenity/2>,\n        <http://foo.example/Amenity/20>,\n        <http://foo.example/Amenity/21>,\n        <http://foo.example/Amenity/22>,\n        <http://foo.example/Amenity/23>,\n        <http://foo.example/Amenity/24>,\n        <http://foo.example/Amenity/3>,\n        <http://foo.example/Amenity/4>,\n        <http://foo.example/Amenity/5>,\n        <http://foo.example/Amenity/6>,\n        <http://foo.example/Amenity/7>,\n        <http://foo.example/Amenity/8>,\n        <http://foo.example/Amenity/9> ;\n    ns1:reviewsAbout <http://foo.example/AccomedationRating/1> .\n\n<http://foo.example/ActivitiesTypes/Activity%20Operator> a ns1:ActivityType ;\n    ns1:activityTypeActivityID \"1\" ;\n    ns1:activityTypeName \"Activity Operator\" ;\n    ns1:partOfActivity <http://foo.example/Activities/%22A%20Rural%20Experience%22%20Day%20Tours>,\n        <http://foo.example/Activities/11%20Day%20Discover%20Ireland%20Tour%20-%20Vagabond%20Tours%20of%20Ireland>,\n        <http://foo.example/Activities/12%20Day%20Giant%20Irish%20Adventure%20Tour%20-%20Vagabond%20Tours%20of%20Ireland>,\n        <http://foo.example/Activities/1916%20Freedom%20Tour>,\n        <http://foo.example/Activities/1916%20Rebellion%20Walking%20Tours>,\n        <http://foo.example/Activities/1916%20Ride%20the%20Revolution%20Rise%20of%20the%20Rebels%20Bus%20Tour%20-%20Hidden%20Dublin%20Walks>,\n        <http://foo.example/Activities/1st%20Adventure%20Tours>,\n        <http://foo.example/Activities/3%20Day%20Southern%20Tour%20-%20Shamrocker%20Adventures>,\n        <http://foo.example/Activities/3%20Day%20Western%20Rocker%20Tour%20-%20Shamrocker%20Adventures>,\n        <http://foo.example/Activities/365%20Chauffeur%20Drive>,\n        <http://foo.example/Activities/5%20Day%20Celtic%20Rocker%20Tour%20-%20Shamrocker%20Adventures>,\n        <http://foo.example/Activities/5%20Day%20Giant%27s%20Rocker%20Tour%20-%20Shamrocker%20Adventures>,\n        <http://foo.example/Activities/6%20Day%20Northern%20Ireland%20Tour%20-%20Vagabond%20Tours%20of%20Ireland>,\n        <http://foo.example/Activities/7%20Day%20All%20Ireland%20Rocker%20Tour%20-%20Shamrocker%20Adventures>,\n        <http://foo.example/Activities/7%20Day%20Magnetic%20North%20Adventure%20Tour%2C%20Vagabond%20Tours%20of%20Ireland>,\n        <http://foo.example/Activities/7%20Day%20Treasure%20Ireland%20Tour%20-%20Vagabond%20Tours%20of%20Ireland>,\n        <http://foo.example/Activities/7%20Day%20World%20Tour%20of%20Ireland%20-%20Vagabond%20Tours%20of%20Ireland>,\n        <http://foo.example/Activities/7th%20Wave%20Surf%2C%20Sup%2C%20Kayak%20School>,\n        <http://foo.example/Activities/8%20Day%20Wild%20Irish%20Rover%20-%20Vagabond%20Tours%20of%20Ireland>,\n        <http://foo.example/Activities/A%20Heritage%20Walk%20of%20Old%20Galway>,\n        <http://foo.example/Activities/A%20Spasso%20A%20Dublino%20-%20Italian%20Tour%20in%20Dublin>,\n        <http://foo.example/Activities/A%20Touch%20of%20Ireland%20Ltd.>,\n        <http://foo.example/Activities/Abbey%20Ireland%20%26%20UK>,\n        <http://foo.example/Activities/Abbey%20Theatre>,\n        <http://foo.example/Activities/Abbey%20Theatre%20Tours>,\n        <http://foo.example/Activities/About%20Cork%20Taxi%20Tours>,\n        <http://foo.example/Activities/Aboveboard> .\n\n<http://foo.example/ActivitiesTypes/Tour> a ns1:ActivityType ;\n    ns1:activityTypeActivityID \"2\" ;\n    ns1:activityTypeName \"Tour\" ;\n    ns1:partOfActivity <http://foo.example/Activities/%22A%20Rural%20Experience%22%20Day%20Tours>,\n        <http://foo.example/Activities/11%20Day%20Discover%20Ireland%20Tour%20-%20Vagabond%20Tours%20of%20Ireland>,\n        <http://foo.example/Activities/12%20Day%20Giant%20Irish%20Adventure%20Tour%20-%20Vagabond%20Tours%20of%20Ireland>,\n        <http://foo.example/Activities/14%20Henrietta%20Street>,\n        <http://foo.example/Activities/1916%20Freedom%20Tour>,\n        <http://foo.example/Activities/1916%20Rebellion%20Walking%20Tours>,\n        <http://foo.example/Activities/1916%20Ride%20the%20Revolution%20Rise%20of%20the%20Rebels%20Bus%20Tour%20-%20Hidden%20Dublin%20Walks>,\n        <http://foo.example/Activities/1st%20Adventure%20Tours>,\n        <http://foo.example/Activities/3%20Day%20Southern%20Tour%20-%20Shamrocker%20Adventures>,\n        <http://foo.example/Activities/3%20Day%20Western%20Rocker%20Tour%20-%20Shamrocker%20Adventures>,\n        <http://foo.example/Activities/365%20Chauffeur%20Drive>,\n        <http://foo.example/Activities/5%20Day%20Celtic%20Rocker%20Tour%20-%20Shamrocker%20Adventures>,\n        <http://foo.example/Activities/5%20Day%20Giant%27s%20Rocker%20Tour%20-%20Shamrocker%20Adventures>,\n        <http://foo.example/Activities/6%20Day%20Northern%20Ireland%20Tour%20-%20Vagabond%20Tours%20of%20Ireland>,\n        <http://foo.example/Activities/7%20Day%20All%20Ireland%20Rocker%20Tour%20-%20Shamrocker%20Adventures>,\n        <http://foo.example/Activities/7%20Day%20Magnetic%20North%20Adventure%20Tour%2C%20Vagabond%20Tours%20of%20Ireland>,\n        <http://foo.example/Activities/7%20Day%20Treasure%20Ireland%20Tour%20-%20Vagabond%20Tours%20of%20Ireland>,\n        <http://foo.example/Activities/7%20Day%20World%20Tour%20of%20Ireland%20-%20Vagabond%20Tours%20of%20Ireland>,\n        <http://foo.example/Activities/8%20Day%20Wild%20Irish%20Rover%20-%20Vagabond%20Tours%20of%20Ireland>,\n        <http://foo.example/Activities/A%20Heritage%20Walk%20of%20Old%20Galway>,\n        <http://foo.example/Activities/A%20Spasso%20A%20Dublino%20-%20Italian%20Tour%20in%20Dublin>,\n        <http://foo.example/Activities/A%20Touch%20of%20Ireland%20Ltd.>,\n        <http://foo.example/Activities/Abbey%20Ireland%20%26%20UK>,\n        <http://foo.example/Activities/Abbey%20Theatre>,\n        <http://foo.example/Activities/Abbey%20Theatre%20Tours>,\n        <http://foo.example/Activities/Abbeyleix%20Heritage%20House>,\n        <http://foo.example/Activities/About%20Cork%20Taxi%20Tours> .\n\n<http://foo.example/Location/Dublin> a ns1:Location ;\n    ns1:countyLocatedIn <http://foo.example/County/Dublin> .\n\n\n"
     ]
    }
   ],
   "source": [
    "print(g.serialize(format='ttl').decode('u8'))"
   ]
  },
  {
   "cell_type": "code",
   "execution_count": 47,
   "metadata": {},
   "outputs": [],
   "source": [
    "from rdflib import Graph, Literal, RDF, URIRef\n",
    "from rdflib.namespace import FOAF, XSD\n"
   ]
  },
  {
   "cell_type": "code",
   "execution_count": 36,
   "metadata": {},
   "outputs": [
    {
     "output_type": "stream",
     "name": "stdout",
     "text": [
      "Collecting requests\n",
      "  Downloading requests-2.25.0-py2.py3-none-any.whl (61 kB)\n",
      "Collecting urllib3<1.27,>=1.21.1\n",
      "  Downloading urllib3-1.26.2-py2.py3-none-any.whl (136 kB)\n",
      "Collecting chardet<4,>=3.0.2\n",
      "  Downloading chardet-3.0.4-py2.py3-none-any.whl (133 kB)\n",
      "Collecting certifi>=2017.4.17\n",
      "  Downloading certifi-2020.11.8-py2.py3-none-any.whl (155 kB)\n",
      "Collecting idna<3,>=2.5\n",
      "  Downloading idna-2.10-py2.py3-none-any.whl (58 kB)\n",
      "Installing collected packages: urllib3, chardet, certifi, idna, requests\n",
      "Successfully installed certifi-2020.11.8 chardet-3.0.4 idna-2.10 requests-2.25.0 urllib3-1.26.2\n",
      "Note: you may need to restart the kernel to use updated packages.\n",
      "  WARNING: The script chardetect.exe is installed in 'C:\\Users\\Siddhesh\\AppData\\Local\\Programs\\Python\\Python39\\Scripts' which is not on PATH.\n",
      "  Consider adding this directory to PATH or, if you prefer to suppress this warning, use --no-warn-script-location.\n"
     ]
    }
   ],
   "source": [
    "pip install requests"
   ]
  },
  {
   "cell_type": "code",
   "execution_count": 52,
   "metadata": {},
   "outputs": [
    {
     "output_type": "stream",
     "name": "stdout",
     "text": [
      "(rdflib.term.URIRef('http://www.semanticweb.org/ontologies/2020/10/availabilityMin'), rdflib.term.URIRef('http://foo.example/Availability/71'), rdflib.term.Literal('3'))\n(rdflib.term.URIRef('http://www.semanticweb.org/ontologies/2020/10/availabilityPrice'), rdflib.term.URIRef('http://foo.example/Availability/94'), rdflib.term.Literal('200.00'))\n(rdflib.term.URIRef('http://www.w3.org/1999/02/22-rdf-syntax-ns#type'), rdflib.term.URIRef('http://foo.example/Reviews/34'), rdflib.term.URIRef('http://www.semanticweb.org/ontologies/2020/10/Review'))\n(rdflib.term.URIRef('http://www.semanticweb.org/ontologies/2020/10/activityLatitude'), rdflib.term.URIRef('http://foo.example/Activities/A%20Touch%20of%20Ireland%20Ltd.'), rdflib.term.Literal('53.336932'))\n(rdflib.term.URIRef('http://www.semanticweb.org/ontologies/2020/10/reviewerName'), rdflib.term.URIRef('http://foo.example/Reviews/29'), rdflib.term.Literal('2108419'))\n(rdflib.term.URIRef('http://www.semanticweb.org/ontologies/2020/10/availabilityMax'), rdflib.term.URIRef('http://foo.example/Availability/80'), rdflib.term.Literal('14'))\n(rdflib.term.URIRef('http://www.w3.org/1999/02/22-rdf-syntax-ns#type'), rdflib.term.URIRef('http://foo.example/Availability/61'), rdflib.term.URIRef('http://www.semanticweb.org/ontologies/2020/10/Availability'))\n(rdflib.term.URIRef('http://www.semanticweb.org/ontologies/2020/10/availabilityAdjustedPrice'), rdflib.term.URIRef('http://foo.example/Availability/96'), rdflib.term.Literal('200.00'))\n(rdflib.term.URIRef('http://www.semanticweb.org/ontologies/2020/10/availabilityMax'), rdflib.term.URIRef('http://foo.example/Availability/81'), rdflib.term.Literal('14'))\n(rdflib.term.URIRef('http://www.semanticweb.org/ontologies/2020/10/reviewDateCreated'), rdflib.term.URIRef('http://foo.example/Reviews/8'), rdflib.term.Literal('2016-01-02'))\n"
     ]
    }
   ],
   "source": [
    "qres = g.query(\n",
    "    \"\"\"SELECT DISTINCT * WHERE {\n",
    "  ?s ?p ?o\n",
    "}\n",
    "LIMIT 10\n",
    "\"\"\")\n",
    "\n",
    "\n",
    "for row in qres:\n",
    "    print(row)\n"
   ]
  },
  {
   "cell_type": "code",
   "execution_count": 48,
   "metadata": {
    "tags": [
     "outputPrepend"
    ]
   },
   "outputs": [
    {
     "output_type": "stream",
     "name": "stdout",
     "text": [
      "Henrietta%20Street http://www.semanticweb.org/ontologies/2020/10/activityWebsite http://thedrawingroom.ie/\n",
      "http://foo.example/Amenity/21 http://www.semanticweb.org/ontologies/2020/10/partOfAccommodation http://foo.example/Accomedation/18349413\n",
      "http://foo.example/Activities/7%20Day%20Treasure%20Ireland%20Tour%20-%20Vagabond%20Tours%20of%20Ireland http://www.semanticweb.org/ontologies/2020/10/activityWebsite http://twitter.com/vagabondireland\n",
      "http://foo.example/Activities/Abbeyshrule%20Monastery http://www.semanticweb.org/ontologies/2020/10/activityLatitude 53.5796914273899\n",
      "http://foo.example/Amenity/3 http://www.w3.org/1999/02/22-rdf-syntax-ns#type http://www.semanticweb.org/ontologies/2020/10/Amenity\n",
      "http://foo.example/Availability/70 http://www.semanticweb.org/ontologies/2020/10/availabilityAvaliable false\n",
      "http://foo.example/ActivitiesTypes/Golf%20Course http://www.w3.org/1999/02/22-rdf-syntax-ns#type http://www.semanticweb.org/ontologies/2020/10/ActivityType\n",
      "http://foo.example/Activities/56%20Central%20Restaurant http://www.semanticweb.org/ontologies/2020/10/activityWebsite http://www.56central.com\n",
      "http://foo.example/Availability/39 http://www.semanticweb.org/ontologies/2020/10/availabilityAdjustedPrice 200.00\n",
      "http://foo.example/Activities/Abbey%20Theatre%20Tours http://www.semanticweb.org/ontologies/2020/10/activityLatitude 53.34854\n",
      "http://foo.example/Activities/7%20Day%20Magnetic%20North%20Adventure%20Tour%2C%20Vagabond%20Tours%20of%20Ireland http://www.semanticweb.org/ontologies/2020/10/activityLongitude -6.10577993557354\n",
      "http://foo.example/Activities/Aboveboard http://www.semanticweb.org/ontologies/2020/10/activityName Aboveboard\n",
      "http://foo.example/Activities/360%20Cookhouse http://www.semanticweb.org/ontologies/2020/10/activityTelephone 3535844537\n",
      "http://foo.example/Availability/47 http://www.semanticweb.org/ontologies/2020/10/availabilityID 47\n",
      "http://foo.example/Availability/43 http://www.semanticweb.org/ontologies/2020/10/availabilityMax 14\n",
      "http://foo.example/Availability/87 http://www.semanticweb.org/ontologies/2020/10/availabilityAvaliable 43920125\n",
      "http://foo.example/Activities/7%20Day%20All%20Ireland%20Rocker%20Tour%20-%20Shamrocker%20Adventures http://www.semanticweb.org/ontologies/2020/10/activityTelephone +353(0)16727651\n",
      "http://foo.example/Availability/71 http://www.semanticweb.org/ontologies/2020/10/availabilityID 71\n",
      "http://foo.example/Reviews/31 http://www.semanticweb.org/ontologies/2020/10/reviewerName 40976216\n",
      "http://foo.example/Activities/Aboveboard http://www.semanticweb.org/ontologies/2020/10/activityID 50\n",
      "http://foo.example/Activities/10%20Fleet%20Street%20Restaurant%20%26%20Bar http://www.semanticweb.org/ontologies/2020/10/activityLongitude -6.2612322100822\n",
      "http://foo.example/Availability/91 http://www.semanticweb.org/ontologies/2020/10/availabilityAvaliable false\n",
      "http://foo.example/Availability/32 http://www.semanticweb.org/ontologies/2020/10/availabilityAvaliable 43920125\n",
      "http://foo.example/Availability/52 http://www.semanticweb.org/ontologies/2020/10/availabilityAdjustedPrice 200.00\n",
      "http://foo.example/Activities/126%20Artist-Run%20Gallery http://www.semanticweb.org/ontologies/2020/10/partOfActivity http://foo.example/ActivitiesTypes/Shopping\n",
      "http://foo.example/Availability/53 http://www.semanticweb.org/ontologies/2020/10/availabilityPrice 200.00\n",
      "http://foo.example/Availability/6 http://www.semanticweb.org/ontologies/2020/10/availabilityMin 3\n",
      "http://foo.example/Availability/41 http://www.semanticweb.org/ontologies/2020/10/availabilityPrice 200.00\n",
      "http://foo.example/Availability/20 http://www.semanticweb.org/ontologies/2020/10/availabilityAvaliable false\n",
      "http://foo.example/Amenity/4 http://www.w3.org/1999/02/22-rdf-syntax-ns#type http://www.semanticweb.org/ontologies/2020/10/Amenity\n",
      "http://foo.example/Availability/60 http://www.semanticweb.org/ontologies/2020/10/availabilityPrice 200.00\n",
      "http://foo.example/Availability/12 http://www.semanticweb.org/ontologies/2020/10/availabilityAdjustedPrice 200.00\n",
      "http://foo.example/ActivitiesTypes/Covid%20Safety%20Charter http://www.semanticweb.org/ontologies/2020/10/partOfActivity http://foo.example/Activities/Abbeyleix%20Heritage%20House\n",
      "http://foo.example/Activities/126%20Artist-Run%20Gallery http://www.semanticweb.org/ontologies/2020/10/partOfActivity http://foo.example/ActivitiesTypes/Craft\n",
      "http://foo.example/Availability/82 http://www.semanticweb.org/ontologies/2020/10/availabilityPrice 200.00\n",
      "http://foo.example/Activities/Abbeyderg%20Abbey%20and%20Graveyard http://www.semanticweb.org/ontologies/2020/10/activityTelephone 353433346566\n",
      "http://foo.example/Availability/48 http://www.semanticweb.org/ontologies/2020/10/availabilityAdjustedPrice 200.00\n",
      "http://foo.example/ActivitiesTypes/Covid%20Safety%20Charter http://www.w3.org/1999/02/22-rdf-syntax-ns#type http://www.semanticweb.org/ontologies/2020/10/ActivityType\n",
      "http://foo.example/AccomedationRating/1 http://www.semanticweb.org/ontologies/2020/10/reviewsAbout http://foo.example/Accomedation/18349413\n",
      "http://foo.example/Reviews/37 http://www.semanticweb.org/ontologies/2020/10/reviewDateCreated 2016-10-03\n",
      "http://foo.example/ActivitiesTypes/Vegetarian http://www.semanticweb.org/ontologies/2020/10/partOfActivity http://foo.example/Activities/37%20Dawson%20Street\n",
      "http://foo.example/ActivitiesTypes/Ruins http://www.semanticweb.org/ontologies/2020/10/activityTypeName Ruins\n",
      "http://foo.example/Availability/67 http://www.semanticweb.org/ontologies/2020/10/availabilityAdjustedPrice 200.00\n",
      "http://foo.example/Availability/1 http://www.semanticweb.org/ontologies/2020/10/availabilityMax 1125\n",
      "http://foo.example/ActivitiesTypes/Tour http://www.semanticweb.org/ontologies/2020/10/partOfActivity http://foo.example/Activities/1916%20Rebellion%20Walking%20Tours\n",
      "http://foo.example/ActivitiesTypes/Food%20and%20Drink http://www.semanticweb.org/ontologies/2020/10/partOfActivity http://foo.example/Activities/56%20Central%20Restaurant\n",
      "http://foo.example/Availability/11 http://www.semanticweb.org/ontologies/2020/10/availabilityAvaliable false\n",
      "http://foo.example/County/Donegal http://www.semanticweb.org/ontologies/2020/10/countyIsCapital false\n",
      "http://foo.example/Availability/42 http://www.semanticweb.org/ontologies/2020/10/availabilityMin 3\n",
      "http://foo.example/Activities/10%20Fleet%20Street%20Restaurant%20%26%20Bar http://www.w3.org/1999/02/22-rdf-syntax-ns#type http://www.semanticweb.org/ontologies/2020/10/Activity\n",
      "http://foo.example/Availability/91 http://www.semanticweb.org/ontologies/2020/10/availabilityPrice 200.00\n",
      "http://foo.example/Activities/Abbeyshrule%20Monastery http://www.semanticweb.org/ontologies/2020/10/activityLongitude -7.6583470787125\n",
      "http://foo.example/Activities/37%20Dawson%20Street http://www.semanticweb.org/ontologies/2020/10/activityTelephone 35319022908\n",
      "http://foo.example/Availability/29 http://www.semanticweb.org/ontologies/2020/10/availabilityAvaliable 43920125\n",
      "http://foo.example/Availability/50 http://www.w3.org/1999/02/22-rdf-syntax-ns#type http://www.semanticweb.org/ontologies/2020/10/Availability\n",
      "http://foo.example/Amenity/6 http://www.semanticweb.org/ontologies/2020/10/amenityID 6\n",
      "http://foo.example/Availability/62 http://www.semanticweb.org/ontologies/2020/10/availabilityAvaliable false\n",
      "http://foo.example/Activities/6%20Day%20Northern%20Ireland%20Tour%20-%20Vagabond%20Tours%20of%20Ireland http://www.semanticweb.org/ontologies/2020/10/partOfActivity http://foo.example/ActivitiesTypes/Tour\n",
      "http://foo.example/Availability/10 http://www.semanticweb.org/ontologies/2020/10/availabilityMax 14\n",
      "http://foo.example/Availability/22 http://www.semanticweb.org/ontologies/2020/10/availabilityAvaliable 43920125\n",
      "http://foo.example/Reviews/35 http://www.w3.org/1999/02/22-rdf-syntax-ns#type http://www.semanticweb.org/ontologies/2020/10/Review\n",
      "http://foo.example/Reviews/47 http://www.semanticweb.org/ontologies/2020/10/reviewDateCreated 2016-12-10\n",
      "http://foo.example/Activities/1st%20Adventure%20Tours http://www.semanticweb.org/ontologies/2020/10/activityName 1st Adventure Tours\n",
      "http://foo.example/Reviews/35 http://www.semanticweb.org/ontologies/2020/10/review Karl\n",
      "http://foo.example/Amenity/23 http://www.w3.org/1999/02/22-rdf-syntax-ns#type http://www.semanticweb.org/ontologies/2020/10/Amenity\n",
      "http://foo.example/Activities/3%20Day%20Southern%20Tour%20-%20Shamrocker%20Adventures http://www.semanticweb.org/ontologies/2020/10/activityID 15\n",
      "http://foo.example/ActivitiesTypes/Learning http://www.semanticweb.org/ontologies/2020/10/partOfActivity http://foo.example/Activities/Abbeyshrule%20Monastery\n",
      "http://foo.example/ActivitiesTypes/Museums%20and%20Attraction http://www.semanticweb.org/ontologies/2020/10/activityTypeName Museums and Attraction\n",
      "http://foo.example/ActivitiesTypes/Art%20Gallery http://www.semanticweb.org/ontologies/2020/10/partOfActivity http://foo.example/Activities/126%20Artist-Run%20Gallery\n",
      "http://foo.example/Reviews/42 http://www.semanticweb.org/ontologies/2020/10/reviewDateCreated 2016-10-24\n",
      "http://foo.example/Activities/Abbeyleix%20Heritage%20House http://www.semanticweb.org/ontologies/2020/10/activityLongitude -7.3464114\n",
      "http://foo.example/Availability/4 http://www.semanticweb.org/ontologies/2020/10/availabilityAdjustedPrice 200.00\n",
      "http://foo.example/Activities/Abbey%20Road%20Artists’%20Studios http://www.semanticweb.org/ontologies/2020/10/activityLocatedIn http://foo.example/Location/Westmeath\n",
      "http://foo.example/Activities/11%20Day%20Discover%20Ireland%20Tour%20-%20Vagabond%20Tours%20of%20Ireland http://www.w3.org/1999/02/22-rdf-syntax-ns#type http://www.semanticweb.org/ontologies/2020/10/Activity\n",
      "http://foo.example/ActivitiesTypes/Windsurfing http://www.semanticweb.org/ontologies/2020/10/activityTypeActivityID 154\n",
      "http://foo.example/Location/Wexford http://www.semanticweb.org/ontologies/2020/10/countyLocatedIn http://foo.example/County/Wexford\n",
      "http://foo.example/Reviews/42 http://www.semanticweb.org/ontologies/2020/10/reviewID 42\n",
      "http://foo.example/Reviews/49 http://www.semanticweb.org/ontologies/2020/10/reviewDateCreated 2016-12-18\n",
      "http://foo.example/Availability/71 http://www.w3.org/1999/02/22-rdf-syntax-ns#type http://www.semanticweb.org/ontologies/2020/10/Availability\n",
      "http://foo.example/County/Donegal http://www.semanticweb.org/ontologies/2020/10/countyLocatedIn http://foo.example/Country/Republic%20of%20Ireland\n",
      "http://foo.example/ActivitiesTypes/Vegetarian http://www.semanticweb.org/ontologies/2020/10/activityTypeName Vegetarian\n",
      "http://foo.example/Availability/79 http://www.semanticweb.org/ontologies/2020/10/availabilityAdjustedPrice 200.00\n",
      "http://foo.example/County/Wicklow http://www.semanticweb.org/ontologies/2020/10/countyName Wicklow\n",
      "http://foo.example/Host/55002336 http://www.semanticweb.org/ontologies/2020/10/hostSince 2016-01-17\n",
      "http://foo.example/Availability/68 http://www.semanticweb.org/ontologies/2020/10/availabilityMax 14\n",
      "http://foo.example/Availability/38 http://www.semanticweb.org/ontologies/2020/10/availabilityMax 14\n",
      "http://foo.example/Availability/3 http://www.semanticweb.org/ontologies/2020/10/availabilityAvaliable 43920125\n",
      "http://foo.example/Availability/13 http://www.semanticweb.org/ontologies/2020/10/availabilityAvaliable 43920125\n",
      "http://foo.example/Activities/10%20Fleet%20Street%20Restaurant%20%26%20Bar http://www.semanticweb.org/ontologies/2020/10/activityName 10 Fleet Street Restaurant & Bar\n",
      "http://foo.example/ActivitiesTypes/Cycling http://www.semanticweb.org/ontologies/2020/10/partOfActivity http://foo.example/Activities/Aboveboard\n",
      "http://foo.example/Availability/26 http://www.semanticweb.org/ontologies/2020/10/availabilityMax 14\n",
      "http://foo.example/Availability/89 http://www.w3.org/1999/02/22-rdf-syntax-ns#type http://www.semanticweb.org/ontologies/2020/10/Availability\n",
      "http://foo.example/Accomedation/18349413 http://www.semanticweb.org/ontologies/2020/10/hasAmentities http://foo.example/Amenity/6\n",
      "http://foo.example/Activities/Abbeyfeale%20Farmers%20Market http://www.semanticweb.org/ontologies/2020/10/activityLatitude 52.384547\n",
      "http://foo.example/ActivitiesTypes/Activity%20Operator http://www.semanticweb.org/ontologies/2020/10/partOfActivity http://foo.example/Activities/7th%20Wave%20Surf%2C%20Sup%2C%20Kayak%20School\n",
      "http://foo.example/ActivitiesTypes/Tour http://www.semanticweb.org/ontologies/2020/10/partOfActivity http://foo.example/Activities/Abbey%20Theatre%20Tours\n",
      "http://foo.example/Availability/62 http://www.semanticweb.org/ontologies/2020/10/availabilityPrice 200.00\n",
      "http://foo.example/Availability/85 http://www.semanticweb.org/ontologies/2020/10/availabilityID 85\n",
      "http://foo.example/Accomedation/18349413 http://www.semanticweb.org/ontologies/2020/10/hasAmentities http://foo.example/Amenity/24\n",
      "http://foo.example/ActivitiesTypes/Food%20and%20Drink http://www.semanticweb.org/ontologies/2020/10/partOfActivity http://foo.example/Activities/Abbeyleix%20Heritage%20House\n",
      "http://foo.example/Accomedation/18349413 http://www.semanticweb.org/ontologies/2020/10/accInstantBookable false\n",
      "http://foo.example/Amenity/23 http://www.semanticweb.org/ontologies/2020/10/amenityName Stove\n",
      "http://foo.example/Amenity/5 http://www.semanticweb.org/ontologies/2020/10/amenityID 5\n",
      "http://foo.example/Availability/54 http://www.semanticweb.org/ontologies/2020/10/availabilityID 54\n",
      "http://foo.example/PropertyType/1 http://www.semanticweb.org/ontologies/2020/10/propertyTypeID 1\n",
      "http://foo.example/Activities/1916%20Ride%20the%20Revolution%20Rise%20of%20the%20Rebels%20Bus%20Tour%20-%20Hidden%20Dublin%20Walks http://www.semanticweb.org/ontologies/2020/10/activityLongitude -6.2798109\n",
      "http://foo.example/ActivitiesTypes/Food%20and%20Drink http://www.w3.org/1999/02/22-rdf-syntax-ns#type http://www.semanticweb.org/ontologies/2020/10/ActivityType\n",
      "http://foo.example/Reviews/4 http://www.semanticweb.org/ontologies/2020/10/review Emma\n",
      "http://foo.example/Host/55002336 http://www.semanticweb.org/ontologies/2020/10/hostResponseRate 0\n",
      "http://foo.example/Availability/67 http://www.w3.org/1999/02/22-rdf-syntax-ns#type http://www.semanticweb.org/ontologies/2020/10/Availability\n",
      "http://foo.example/Activities/1916%20Ride%20the%20Revolution%20Rise%20of%20the%20Rebels%20Bus%20Tour%20-%20Hidden%20Dublin%20Walks http://www.semanticweb.org/ontologies/2020/10/activityLocatedIn http://foo.example/Location/Dublin\n",
      "http://foo.example/Reviews/36 http://www.semanticweb.org/ontologies/2020/10/reviewDateCreated 2016-09-25\n",
      "http://foo.example/Activities/365%20Chauffeur%20Drive http://www.semanticweb.org/ontologies/2020/10/activityLatitude 53.3493830372358\n",
      "http://foo.example/Reviews/3 http://www.semanticweb.org/ontologies/2020/10/review Ann\n",
      "http://foo.example/Activities/7%20Day%20World%20Tour%20of%20Ireland%20-%20Vagabond%20Tours%20of%20Ireland http://www.semanticweb.org/ontologies/2020/10/activityLatitude 53.3493056292935\n",
      "http://foo.example/Amenity/7 http://www.semanticweb.org/ontologies/2020/10/partOfAccommodation http://foo.example/Accomedation/18349413\n",
      "http://foo.example/Availability/97 http://www.semanticweb.org/ontologies/2020/10/availabilityAvaliable false\n",
      "http://foo.example/Reviews/44 http://www.semanticweb.org/ontologies/2020/10/reviewID 44\n",
      "http://foo.example/ActivitiesTypes/Art%20Gallery http://www.semanticweb.org/ontologies/2020/10/activityTypeName Art Gallery\n",
      "http://foo.example/County/Laois http://www.w3.org/1999/02/22-rdf-syntax-ns#type http://www.semanticweb.org/ontologies/2020/10/County\n",
      "http://foo.example/Availability/94 http://www.semanticweb.org/ontologies/2020/10/availabilityAvaliable false\n",
      "http://foo.example/Reviews/16 http://www.semanticweb.org/ontologies/2020/10/reviewID 16\n",
      "http://foo.example/Availability/46 http://www.semanticweb.org/ontologies/2020/10/availabilityMin 3\n",
      "http://foo.example/Activities/5%20Day%20Celtic%20Rocker%20Tour%20-%20Shamrocker%20Adventures http://www.semanticweb.org/ontologies/2020/10/activityTelephone +353(0)16727651\n",
      "http://foo.example/Availability/60 http://www.semanticweb.org/ontologies/2020/10/availabilityMin 3\n",
      "http://foo.example/ActivitiesTypes/Abbeys%20and%20Monastery http://www.semanticweb.org/ontologies/2020/10/activityTypeActivityID 124\n",
      "http://foo.example/Availability/72 http://www.semanticweb.org/ontologies/2020/10/availabilityPrice 200.00\n",
      "http://foo.example/Amenity/4 http://www.semanticweb.org/ontologies/2020/10/amenityName Hangers\n",
      "http://foo.example/ActivitiesTypes/Restaurant http://www.semanticweb.org/ontologies/2020/10/partOfActivity http://foo.example/Activities/360%20Cookhouse\n",
      "http://foo.example/Activities/1st%20Adventure%20Tours http://www.semanticweb.org/ontologies/2020/10/activityLatitude 54.1680768171531\n",
      "http://foo.example/Accomedation/18349413 http://www.semanticweb.org/ontologies/2020/10/hasAmentities http://foo.example/Amenity/2\n",
      "http://foo.example/Reviews/11 http://www.w3.org/1999/02/22-rdf-syntax-ns#type http://www.semanticweb.org/ontologies/2020/10/Review\n",
      "http://foo.example/Availability/99 http://www.semanticweb.org/ontologies/2020/10/availabilityID 99\n",
      "http://foo.example/Availability/11 http://www.semanticweb.org/ontologies/2020/10/availabilityID 11\n",
      "http://foo.example/Activities/12%20Day%20Giant%20Irish%20Adventure%20Tour%20-%20Vagabond%20Tours%20of%20Ireland http://www.semanticweb.org/ontologies/2020/10/activityLocatedIn http://foo.example/Location/Dublin\n",
      "http://foo.example/Availability/59 http://www.w3.org/1999/02/22-rdf-syntax-ns#type http://www.semanticweb.org/ontologies/2020/10/Availability\n",
      "http://foo.example/Availability/31 http://www.w3.org/1999/02/22-rdf-syntax-ns#type http://www.semanticweb.org/ontologies/2020/10/Availability\n",
      "http://foo.example/Availability/14 http://www.semanticweb.org/ontologies/2020/10/availabilityAvaliable false\n",
      "http://foo.example/Availability/86 http://www.semanticweb.org/ontologies/2020/10/availabilityID 86\n",
      "http://foo.example/Availability/30 http://www.semanticweb.org/ontologies/2020/10/availabilityAvaliable false\n",
      "http://foo.example/Activities/11%20Day%20Discover%20Ireland%20Tour%20-%20Vagabond%20Tours%20of%20Ireland http://www.semanticweb.org/ontologies/2020/10/partOfActivity http://foo.example/ActivitiesTypes/Activity%20Operator\n",
      "http://foo.example/Amenity/23 http://www.semanticweb.org/ontologies/2020/10/partOfAccommodation http://foo.example/Accomedation/18349413\n",
      "http://foo.example/ActivitiesTypes/Food%20and%20Drink http://www.semanticweb.org/ontologies/2020/10/partOfActivity http://foo.example/Activities/Abbeyfeale%20Farmers%20Market\n",
      "http://foo.example/Availability/17 http://www.semanticweb.org/ontologies/2020/10/availabilityID 17\n",
      "http://foo.example/Activities/14%20Henrietta%20Street http://www.semanticweb.org/ontologies/2020/10/activityName 14 Henrietta Street\n",
      "http://foo.example/Activities/126%20Artist-Run%20Gallery http://www.semanticweb.org/ontologies/2020/10/activityLatitude 53.2772719\n",
      "http://foo.example/Availability/91 http://www.semanticweb.org/ontologies/2020/10/availabilityID 91\n",
      "http://foo.example/Reviews/17 http://www.semanticweb.org/ontologies/2020/10/review Cara\n",
      "http://foo.example/Availability/36 http://www.w3.org/1999/02/22-rdf-syntax-ns#type http://www.semanticweb.org/ontologies/2020/10/Availability\n",
      "http://foo.example/Reviews/6 http://www.semanticweb.org/ontologies/2020/10/reviewID 6\n",
      "http://foo.example/Activities/12%20Day%20Giant%20Irish%20Adventure%20Tour%20-%20Vagabond%20Tours%20of%20Ireland http://www.w3.org/1999/02/22-rdf-syntax-ns#type http://www.semanticweb.org/ontologies/2020/10/Activity\n",
      "http://foo.example/Availability/73 http://www.semanticweb.org/ontologies/2020/10/availabilityMax 14\n",
      "http://foo.example/Availability/79 http://www.w3.org/1999/02/22-rdf-syntax-ns#type http://www.semanticweb.org/ontologies/2020/10/Availability\n",
      "http://foo.example/Activities/Abbey%20Par%203%20Golf%20Club http://www.semanticweb.org/ontologies/2020/10/partOfActivity http://foo.example/ActivitiesTypes/Pitch%20and%20Putt\n",
      "http://foo.example/Activities/Aboveboard http://www.semanticweb.org/ontologies/2020/10/activityLongitude -6.14870248101192\n",
      "http://foo.example/Availability/93 http://www.semanticweb.org/ontologies/2020/10/availabilityPrice 200.00\n"
     ]
    }
   ],
   "source": [
    "# Iterate over Triples in store and print them out\n",
    "for s, p, o in g:\n",
    "    print(s, p, o)"
   ]
  },
  {
   "cell_type": "code",
   "execution_count": null,
   "metadata": {},
   "outputs": [],
   "source": []
  },
  {
   "cell_type": "code",
   "execution_count": 3,
   "metadata": {},
   "outputs": [],
   "source": [
    "from rdflib import Graph"
   ]
  },
  {
   "cell_type": "code",
   "execution_count": null,
   "metadata": {},
   "outputs": [],
   "source": []
  }
 ]
}